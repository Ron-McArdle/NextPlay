{
 "cells": [
  {
   "cell_type": "code",
   "execution_count": 30,
   "metadata": {
    "executionInfo": {
     "elapsed": 519,
     "status": "ok",
     "timestamp": 1658388182614,
     "user": {
      "displayName": "Soham Vishwasrao",
      "userId": "03759289313896667384"
     },
     "user_tz": -330
    },
    "id": "gbBHGaup9_NJ"
   },
   "outputs": [],
   "source": [
    "import pandas as pd\n",
    "import numpy as np"
   ]
  },
  {
   "cell_type": "code",
   "execution_count": 31,
   "metadata": {
    "executionInfo": {
     "elapsed": 4,
     "status": "ok",
     "timestamp": 1658388562841,
     "user": {
      "displayName": "Soham Vishwasrao",
      "userId": "03759289313896667384"
     },
     "user_tz": -330
    },
    "id": "b1AFU4sPBajA"
   },
   "outputs": [],
   "source": [
    "df = pd.read_csv('data4.csv')"
   ]
  },
  {
   "cell_type": "code",
   "execution_count": 32,
   "metadata": {
    "colab": {
     "base_uri": "https://localhost:8080/",
     "height": 206
    },
    "executionInfo": {
     "elapsed": 438,
     "status": "ok",
     "timestamp": 1658388566959,
     "user": {
      "displayName": "Soham Vishwasrao",
      "userId": "03759289313896667384"
     },
     "user_tz": -330
    },
    "id": "G_5Xsj6OCqBA",
    "outputId": "50c80f92-b121-4fbe-a717-58db7022b658"
   },
   "outputs": [
    {
     "data": {
      "text/html": [
       "<div>\n",
       "<style scoped>\n",
       "    .dataframe tbody tr th:only-of-type {\n",
       "        vertical-align: middle;\n",
       "    }\n",
       "\n",
       "    .dataframe tbody tr th {\n",
       "        vertical-align: top;\n",
       "    }\n",
       "\n",
       "    .dataframe thead th {\n",
       "        text-align: right;\n",
       "    }\n",
       "</style>\n",
       "<table border=\"1\" class=\"dataframe\">\n",
       "  <thead>\n",
       "    <tr style=\"text-align: right;\">\n",
       "      <th></th>\n",
       "      <th>Unnamed: 0</th>\n",
       "      <th>steam_appid</th>\n",
       "      <th>name</th>\n",
       "      <th>tags</th>\n",
       "    </tr>\n",
       "  </thead>\n",
       "  <tbody>\n",
       "    <tr>\n",
       "      <th>0</th>\n",
       "      <td>0</td>\n",
       "      <td>730</td>\n",
       "      <td>Counter-Strike: Global Offensive</td>\n",
       "      <td>action multiplayer steamachievements fullcontr...</td>\n",
       "    </tr>\n",
       "    <tr>\n",
       "      <th>1</th>\n",
       "      <td>1</td>\n",
       "      <td>570</td>\n",
       "      <td>Dota 2</td>\n",
       "      <td>action multiplayer coop steamtradingcards stea...</td>\n",
       "    </tr>\n",
       "    <tr>\n",
       "      <th>2</th>\n",
       "      <td>2</td>\n",
       "      <td>578080</td>\n",
       "      <td>PUBG: BATTLEGROUNDS</td>\n",
       "      <td>action multiplayer pvp onlinepvp stats remotep...</td>\n",
       "    </tr>\n",
       "    <tr>\n",
       "      <th>3</th>\n",
       "      <td>3</td>\n",
       "      <td>1172470</td>\n",
       "      <td>Apex Legends</td>\n",
       "      <td>action multiplayer pvp onlinepvp coop onlineco...</td>\n",
       "    </tr>\n",
       "    <tr>\n",
       "      <th>4</th>\n",
       "      <td>4</td>\n",
       "      <td>1446780</td>\n",
       "      <td>MONSTER HUNTER RISE</td>\n",
       "      <td>action singleplayer multiplayer coop onlinecoo...</td>\n",
       "    </tr>\n",
       "  </tbody>\n",
       "</table>\n",
       "</div>"
      ],
      "text/plain": [
       "   Unnamed: 0  steam_appid                              name  \\\n",
       "0           0          730  Counter-Strike: Global Offensive   \n",
       "1           1          570                            Dota 2   \n",
       "2           2       578080               PUBG: BATTLEGROUNDS   \n",
       "3           3      1172470                      Apex Legends   \n",
       "4           4      1446780               MONSTER HUNTER RISE   \n",
       "\n",
       "                                                tags  \n",
       "0  action multiplayer steamachievements fullcontr...  \n",
       "1  action multiplayer coop steamtradingcards stea...  \n",
       "2  action multiplayer pvp onlinepvp stats remotep...  \n",
       "3  action multiplayer pvp onlinepvp coop onlineco...  \n",
       "4  action singleplayer multiplayer coop onlinecoo...  "
      ]
     },
     "execution_count": 32,
     "metadata": {},
     "output_type": "execute_result"
    }
   ],
   "source": [
    "df.head()"
   ]
  },
  {
   "cell_type": "code",
   "execution_count": 33,
   "metadata": {
    "executionInfo": {
     "elapsed": 521,
     "status": "ok",
     "timestamp": 1658388572061,
     "user": {
      "displayName": "Soham Vishwasrao",
      "userId": "03759289313896667384"
     },
     "user_tz": -330
    },
    "id": "OcM1QaDACr6a"
   },
   "outputs": [],
   "source": [
    "from sklearn.feature_extraction.text import TfidfVectorizer\n",
    "from nltk.stem.porter import PorterStemmer"
   ]
  },
  {
   "cell_type": "code",
   "execution_count": 34,
   "metadata": {
    "executionInfo": {
     "elapsed": 7,
     "status": "ok",
     "timestamp": 1658388611398,
     "user": {
      "displayName": "Soham Vishwasrao",
      "userId": "03759289313896667384"
     },
     "user_tz": -330
    },
    "id": "b0hSF_8op-Ey"
   },
   "outputs": [],
   "source": [
    "ps = PorterStemmer()"
   ]
  },
  {
   "cell_type": "code",
   "execution_count": 35,
   "metadata": {
    "executionInfo": {
     "elapsed": 493,
     "status": "ok",
     "timestamp": 1658388624578,
     "user": {
      "displayName": "Soham Vishwasrao",
      "userId": "03759289313896667384"
     },
     "user_tz": -330
    },
    "id": "ZOTJaPr7qfuH"
   },
   "outputs": [],
   "source": [
    "def stem(s):\n",
    "  l = []\n",
    "  for i in s.split():\n",
    "    l.append(ps.stem(i))\n",
    "  s = \" \".join(l)\n",
    "  return s"
   ]
  },
  {
   "cell_type": "code",
   "execution_count": 36,
   "metadata": {
    "executionInfo": {
     "elapsed": 6360,
     "status": "ok",
     "timestamp": 1658388640487,
     "user": {
      "displayName": "Soham Vishwasrao",
      "userId": "03759289313896667384"
     },
     "user_tz": -330
    },
    "id": "stcSdqC-qi9d"
   },
   "outputs": [],
   "source": [
    "df['tags'] = df['tags'].apply(stem)"
   ]
  },
  {
   "cell_type": "code",
   "execution_count": 37,
   "metadata": {
    "executionInfo": {
     "elapsed": 615,
     "status": "ok",
     "timestamp": 1658388645958,
     "user": {
      "displayName": "Soham Vishwasrao",
      "userId": "03759289313896667384"
     },
     "user_tz": -330
    },
    "id": "CoMtofYxqlVX"
   },
   "outputs": [],
   "source": [
    "tfidf = TfidfVectorizer(max_features=3000,stop_words='english')"
   ]
  },
  {
   "cell_type": "code",
   "execution_count": 38,
   "metadata": {
    "executionInfo": {
     "elapsed": 522,
     "status": "ok",
     "timestamp": 1658388655941,
     "user": {
      "displayName": "Soham Vishwasrao",
      "userId": "03759289313896667384"
     },
     "user_tz": -330
    },
    "id": "kDBcFwUSqoDA"
   },
   "outputs": [],
   "source": [
    "vectors = tfidf.fit_transform(df['tags']).toarray()"
   ]
  },
  {
   "cell_type": "code",
   "execution_count": 39,
   "metadata": {
    "colab": {
     "base_uri": "https://localhost:8080/"
    },
    "executionInfo": {
     "elapsed": 400,
     "status": "ok",
     "timestamp": 1658388668330,
     "user": {
      "displayName": "Soham Vishwasrao",
      "userId": "03759289313896667384"
     },
     "user_tz": -330
    },
    "id": "wExHOWbTqqnx",
    "outputId": "c6c0148c-10e2-4dd1-8a53-85dca9650715"
   },
   "outputs": [
    {
     "data": {
      "text/plain": [
       "array([[0., 0., 0., ..., 0., 0., 0.],\n",
       "       [0., 0., 0., ..., 0., 0., 0.],\n",
       "       [0., 0., 0., ..., 0., 0., 0.],\n",
       "       ...,\n",
       "       [0., 0., 0., ..., 0., 0., 0.],\n",
       "       [0., 0., 0., ..., 0., 0., 0.],\n",
       "       [0., 0., 0., ..., 0., 0., 0.]])"
      ]
     },
     "execution_count": 39,
     "metadata": {},
     "output_type": "execute_result"
    }
   ],
   "source": [
    "vectors"
   ]
  },
  {
   "cell_type": "code",
   "execution_count": 40,
   "metadata": {
    "executionInfo": {
     "elapsed": 515,
     "status": "ok",
     "timestamp": 1658388707558,
     "user": {
      "displayName": "Soham Vishwasrao",
      "userId": "03759289313896667384"
     },
     "user_tz": -330
    },
    "id": "fG4JXY02qttY"
   },
   "outputs": [],
   "source": [
    "from sklearn.metrics.pairwise import cosine_similarity"
   ]
  },
  {
   "cell_type": "code",
   "execution_count": 41,
   "metadata": {
    "executionInfo": {
     "elapsed": 2006,
     "status": "ok",
     "timestamp": 1658388718637,
     "user": {
      "displayName": "Soham Vishwasrao",
      "userId": "03759289313896667384"
     },
     "user_tz": -330
    },
    "id": "qsVjkEzYq3JD"
   },
   "outputs": [],
   "source": [
    "similarity = cosine_similarity(vectors)"
   ]
  },
  {
   "cell_type": "code",
   "execution_count": 42,
   "metadata": {
    "colab": {
     "base_uri": "https://localhost:8080/"
    },
    "executionInfo": {
     "elapsed": 413,
     "status": "ok",
     "timestamp": 1658389289328,
     "user": {
      "displayName": "Soham Vishwasrao",
      "userId": "03759289313896667384"
     },
     "user_tz": -330
    },
    "id": "iZGZ2diFq5d9",
    "outputId": "727ecad2-e7b6-460d-843d-045d7f1c885b"
   },
   "outputs": [
    {
     "data": {
      "text/plain": [
       "array([1.        , 0.26582132, 0.14064059, ..., 0.01518613, 0.01788006,\n",
       "       0.06656336])"
      ]
     },
     "execution_count": 42,
     "metadata": {},
     "output_type": "execute_result"
    }
   ],
   "source": [
    "similarity[0]"
   ]
  },
  {
   "cell_type": "code",
   "execution_count": 16,
   "metadata": {
    "executionInfo": {
     "elapsed": 438,
     "status": "ok",
     "timestamp": 1658389402786,
     "user": {
      "displayName": "Soham Vishwasrao",
      "userId": "03759289313896667384"
     },
     "user_tz": -330
    },
    "id": "ZMhF2sLZq8w8"
   },
   "outputs": [],
   "source": [
    "k1 = sorted(list(enumerate(similarity[0])),reverse=True,key=lambda x:x[1])[:6]\n",
    "\n",
    "k2 = sorted(list(enumerate(similarity[1])),reverse=True,key=lambda x:x[1])[:6]"
   ]
  },
  {
   "cell_type": "code",
   "execution_count": 17,
   "metadata": {
    "colab": {
     "base_uri": "https://localhost:8080/"
    },
    "executionInfo": {
     "elapsed": 4,
     "status": "ok",
     "timestamp": 1658389404329,
     "user": {
      "displayName": "Soham Vishwasrao",
      "userId": "03759289313896667384"
     },
     "user_tz": -330
    },
    "id": "-oNHw3R7rhdy",
    "outputId": "d2a04180-b14f-493a-a24e-350907fced25"
   },
   "outputs": [
    {
     "data": {
      "text/plain": [
       "[(581, 0.5064236080270216),\n",
       " (2553, 0.43331354643615694),\n",
       " (2624, 0.39226658574953654),\n",
       " (124, 0.3844687373711558),\n",
       " (811, 0.3811727449027077)]"
      ]
     },
     "execution_count": 17,
     "metadata": {},
     "output_type": "execute_result"
    }
   ],
   "source": [
    "k1 = k1[1:]\n",
    "k1"
   ]
  },
  {
   "cell_type": "code",
   "execution_count": 18,
   "metadata": {
    "colab": {
     "base_uri": "https://localhost:8080/"
    },
    "executionInfo": {
     "elapsed": 413,
     "status": "ok",
     "timestamp": 1658389407194,
     "user": {
      "displayName": "Soham Vishwasrao",
      "userId": "03759289313896667384"
     },
     "user_tz": -330
    },
    "id": "uyqx4-FrrwdD",
    "outputId": "462976fb-1d36-412e-b816-588ac1816580"
   },
   "outputs": [
    {
     "data": {
      "text/plain": [
       "[(229, 0.3314387371338046),\n",
       " (1050, 0.30645107150084283),\n",
       " (1834, 0.2872152783602394),\n",
       " (1415, 0.27890755193302524),\n",
       " (843, 0.2751551262349293)]"
      ]
     },
     "execution_count": 18,
     "metadata": {},
     "output_type": "execute_result"
    }
   ],
   "source": [
    "k2 = k2[1:]\n",
    "k2"
   ]
  },
  {
   "cell_type": "code",
   "execution_count": 19,
   "metadata": {
    "colab": {
     "base_uri": "https://localhost:8080/"
    },
    "executionInfo": {
     "elapsed": 4,
     "status": "ok",
     "timestamp": 1658389409034,
     "user": {
      "displayName": "Soham Vishwasrao",
      "userId": "03759289313896667384"
     },
     "user_tz": -330
    },
    "id": "xW9ImPlzr4-S",
    "outputId": "4c359c7c-8ee9-4acb-d96d-954da12ba80c"
   },
   "outputs": [
    {
     "data": {
      "text/plain": [
       "[(581, 0.5064236080270216),\n",
       " (2553, 0.43331354643615694),\n",
       " (2624, 0.39226658574953654),\n",
       " (124, 0.3844687373711558),\n",
       " (811, 0.3811727449027077),\n",
       " (229, 0.3314387371338046),\n",
       " (1050, 0.30645107150084283),\n",
       " (1834, 0.2872152783602394),\n",
       " (1415, 0.27890755193302524),\n",
       " (843, 0.2751551262349293)]"
      ]
     },
     "execution_count": 19,
     "metadata": {},
     "output_type": "execute_result"
    }
   ],
   "source": [
    "k = k1+k2\n",
    "k"
   ]
  },
  {
   "cell_type": "code",
   "execution_count": 43,
   "metadata": {
    "colab": {
     "base_uri": "https://localhost:8080/"
    },
    "executionInfo": {
     "elapsed": 415,
     "status": "ok",
     "timestamp": 1658389414875,
     "user": {
      "displayName": "Soham Vishwasrao",
      "userId": "03759289313896667384"
     },
     "user_tz": -330
    },
    "id": "b5UwDokHsHG8",
    "outputId": "cb0ac431-f1b2-46e9-dd0c-9949847d3822"
   },
   "outputs": [
    {
     "data": {
      "text/plain": [
       "[(581, 0.5064236080270216),\n",
       " (2553, 0.43331354643615694),\n",
       " (2624, 0.39226658574953654),\n",
       " (124, 0.3844687373711558),\n",
       " (811, 0.3811727449027077),\n",
       " (229, 0.3314387371338046),\n",
       " (1050, 0.30645107150084283),\n",
       " (1834, 0.2872152783602394),\n",
       " (1415, 0.27890755193302524),\n",
       " (843, 0.2751551262349293)]"
      ]
     },
     "execution_count": 43,
     "metadata": {},
     "output_type": "execute_result"
    }
   ],
   "source": [
    "sorted(list(k),reverse=True,key= lambda x:x[1])"
   ]
  },
  {
   "cell_type": "code",
   "execution_count": null,
   "metadata": {
    "id": "VGeeruDCsxX0"
   },
   "outputs": [],
   "source": []
  }
 ],
 "metadata": {
  "colab": {
   "authorship_tag": "ABX9TyMEBvUr4w3mA6PLShRXw1c+",
   "mount_file_id": "136HUTVZzP23m4Krqs2Z5ImZrKnAuhYBi",
   "name": "grs_main.ipynb",
   "provenance": []
  },
  "kernelspec": {
   "display_name": "Python 3 (ipykernel)",
   "language": "python",
   "name": "python3"
  },
  "language_info": {
   "codemirror_mode": {
    "name": "ipython",
    "version": 3
   },
   "file_extension": ".py",
   "mimetype": "text/x-python",
   "name": "python",
   "nbconvert_exporter": "python",
   "pygments_lexer": "ipython3",
   "version": "3.9.13"
  }
 },
 "nbformat": 4,
 "nbformat_minor": 4
}
